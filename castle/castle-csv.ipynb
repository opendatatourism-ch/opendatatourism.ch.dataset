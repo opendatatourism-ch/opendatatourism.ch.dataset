{
 "cells": [
  {
   "cell_type": "markdown",
   "metadata": {},
   "source": [
    "Blog von: https://towardsdatascience.com/loading-data-from-openstreetmap-with-python-and-the-overpass-api-513882a27fd0"
   ]
  },
  {
   "cell_type": "markdown",
   "metadata": {},
   "source": [
    "Overpass Turbo Abfrage: https://overpass-turbo.eu/s/1g8O"
   ]
  },
  {
   "cell_type": "code",
   "execution_count": 23,
   "metadata": {},
   "outputs": [],
   "source": [
    "import requests\n",
    "import json\n",
    "import io\n",
    "import pandas as pd\n",
    "\n",
    "overpass_url = \"http://overpass-api.de/api/interpreter\"\n",
    "overpass_query = \"\"\"\n",
    "[out:csv(::\"id\",::type,\"name\",::lat,::lon,\"wikidata\",\"wikipedia\",\"website\",\"email\",\"opening_hours\";true; \";\")];\n",
    "area[\"ISO3166-1\"=\"CH\"][admin_level=2];\n",
    "(node[\"historic\"=\"castle\"](area);\n",
    " way[\"historic\"=\"castle\"](area);\n",
    " rel[\"historic\"=\"castle\"](area);\n",
    ");\n",
    "out center;\n",
    "\"\"\"\n",
    "response = requests.get(overpass_url, \n",
    "                        params={'data': overpass_query})\n",
    "data = response.content\n",
    "\n",
    "print (data)\n",
    "\n",
    "df = pd.read_csv(io.StringIO(data.decode('utf-8')), delimiter=\";\")\n",
    "\n",
    "print (df)\n",
    "\n",
    "df.to_csv(\"castle.csv\", index = False)\n",
    "\n"
   ]
  }
 ],
 "metadata": {
  "interpreter": {
   "hash": "52017756bbefb9a4148a81fc073917ca1abcfb87e9baaaf942da3e683d55d06f"
  },
  "kernelspec": {
   "display_name": "Python 3.9.10 64-bit (windows store)",
   "language": "python",
   "name": "python3"
  },
  "language_info": {
   "codemirror_mode": {
    "name": "ipython",
    "version": 3
   },
   "file_extension": ".py",
   "mimetype": "text/x-python",
   "name": "python",
   "nbconvert_exporter": "python",
   "pygments_lexer": "ipython3",
   "version": "3.9.10"
  },
  "orig_nbformat": 4
 },
 "nbformat": 4,
 "nbformat_minor": 2
}
