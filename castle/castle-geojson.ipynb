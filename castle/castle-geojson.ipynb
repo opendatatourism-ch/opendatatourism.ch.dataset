{
 "cells": [
  {
   "cell_type": "markdown",
   "metadata": {},
   "source": [
    "Overpass Turbo Request: https://overpass-turbo.eu/s/1g8P"
   ]
  },
  {
   "cell_type": "code",
   "execution_count": 17,
   "metadata": {},
   "outputs": [],
   "source": [
    "import requests\n",
    "import io\n",
    "import pandas as pd\n",
    "import geojson\n",
    "\n",
    "\n",
    "overpass_url = \"http://overpass-api.de/api/interpreter\"\n",
    "overpass_query = \"\"\"\n",
    "[out:csv(::\"id\",::type,\"name\",::lat,::lon,\"wikidata\",\"wikipedia\",\"website\",\"email\",\"opening_hours\";true; \";\")];\n",
    "area[\"ISO3166-1\"=\"CH\"][admin_level=2];\n",
    "(node[\"historic\"=\"castle\"](area);\n",
    " way[\"historic\"=\"castle\"](area);\n",
    " rel[\"historic\"=\"castle\"](area);\n",
    ");\n",
    "out center;\n",
    "\"\"\"\n",
    "response = requests.get(overpass_url, params={'data': overpass_query})\n",
    "data = response.content\n",
    "\n",
    "df = pd.read_csv(io.StringIO(data.decode('utf-8')), delimiter=\";\")\n",
    "\n",
    "# https://stackoverflow.com/questions/47308984/how-to-use-python-with-pandas-exporting-data-to-geojson-for-google-map\n",
    "# https://gist.github.com/mapcloud/036688121a87f960e35cc03077001e93\n",
    "# https://shouland.com/pandas-to-geojson-multiples-points-features-with-python\n",
    "\n",
    "# Replace nan to None\n",
    "dataFrame = df.where((pd.notnull(df)), None)\n",
    "\n",
    "def data2geojson(df):\n",
    "    features = []\n",
    "    insert_features = lambda X: features.append(\n",
    "            geojson.Feature(geometry=geojson.Point((X[\"@lon\"], X[\"@lat\"])),\n",
    "                            properties=dict(name=X[\"name\"], wikidata=X[\"wikidata\"], wikipedia=X[\"wikipedia\"], website=X[\"website\"], email=X[\"email\"], opening_hours=X[\"opening_hours\"])))\n",
    "    df.apply(insert_features, axis=1)\n",
    "    with open('castle.geojson', 'w', encoding='utf8') as fp:\n",
    "        geojson.dump(geojson.FeatureCollection(features), fp, indent=4, sort_keys=True, ensure_ascii=False)\n",
    "\n",
    "data2geojson(dataFrame)"
   ]
  }
 ],
 "metadata": {
  "interpreter": {
   "hash": "52017756bbefb9a4148a81fc073917ca1abcfb87e9baaaf942da3e683d55d06f"
  },
  "kernelspec": {
   "display_name": "Python 3.9.10 64-bit (windows store)",
   "language": "python",
   "name": "python3"
  },
  "language_info": {
   "codemirror_mode": {
    "name": "ipython",
    "version": 3
   },
   "file_extension": ".py",
   "mimetype": "text/x-python",
   "name": "python",
   "nbconvert_exporter": "python",
   "pygments_lexer": "ipython3",
   "version": "3.9.10"
  },
  "orig_nbformat": 4
 },
 "nbformat": 4,
 "nbformat_minor": 2
}
