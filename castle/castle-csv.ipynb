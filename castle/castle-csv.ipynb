{
 "cells": [
  {
   "cell_type": "markdown",
   "metadata": {},
   "source": [
    "Blog von: https://towardsdatascience.com/loading-data-from-openstreetmap-with-python-and-the-overpass-api-513882a27fd0"
   ]
  },
  {
   "cell_type": "markdown",
   "metadata": {},
   "source": [
    "Overpass Turbo Abfrage: https://overpass-turbo.eu/s/1g8O"
   ]
  },
  {
   "cell_type": "code",
   "execution_count": 4,
   "metadata": {},
   "outputs": [
    {
     "name": "stdout",
     "output_type": "stream",
     "text": [
      "         osm_id                       name        lat       lon    wikidata  \\\n",
      "0     100873503        Hochwacht Rhinsberg  47.559561  8.536056  Q101445889   \n",
      "1     259024613                Ruine Stein  47.473219  8.305303     Q687130   \n",
      "2     261672616           Schloss Lenzburg  47.387299  8.185248     Q668647   \n",
      "3     264764892           Ruine Gilgenberg  47.383466  7.607347    Q2175270   \n",
      "4     265284963              Schloss Nidau  47.127600  7.239887     Q254290   \n",
      "..          ...                        ...        ...       ...         ...   \n",
      "316  8380388023          Ruine Langenstein  47.178956  7.860282  Q105155112   \n",
      "317  8643766617          Ruine der la Tour  46.204087  7.408203   Q29929292   \n",
      "318  8745473692    Altes Schloss Gerzensee  46.841043  7.544145     Q439590   \n",
      "319  8930788836  ruines du château du Crêt  46.214547  7.251786   Q29891869   \n",
      "320  8930788837                  Burgruine  46.369134  8.097360   Q29892189   \n",
      "\n",
      "                      wikipedia                           website  \\\n",
      "0        de:Hochwacht Rhinsberg                               NaN   \n",
      "1                de:Ruine Stein                               NaN   \n",
      "2           de:Schloss Lenzburg  https://www.schloss-lenzburg.ch/   \n",
      "3                           NaN                               NaN   \n",
      "4              de:Schloss Nidau                               NaN   \n",
      "..                          ...                               ...   \n",
      "316                         NaN       https://www.gruenenberg.ch/   \n",
      "317                         NaN                               NaN   \n",
      "318  de:Altes Schloss Gerzensee                               NaN   \n",
      "319                         NaN                               NaN   \n",
      "320                         NaN                               NaN   \n",
      "\n",
      "                        email               opening_hours  \n",
      "0                         NaN                         NaN  \n",
      "1                         NaN                         NaN  \n",
      "2    info@schloss-lenzburg.ch  Apr-Oct: Tu-Su 10:00-17:00  \n",
      "3                         NaN                         NaN  \n",
      "4                         NaN                         NaN  \n",
      "..                        ...                         ...  \n",
      "316                       NaN                         NaN  \n",
      "317                       NaN                         NaN  \n",
      "318                       NaN                         NaN  \n",
      "319                       NaN                         NaN  \n",
      "320                       NaN                         NaN  \n",
      "\n",
      "[321 rows x 9 columns]\n"
     ]
    }
   ],
   "source": [
    "import requests\n",
    "import json\n",
    "import io\n",
    "import pandas as pd\n",
    "\n",
    "overpass_url = \"http://overpass-api.de/api/interpreter\"\n",
    "overpass_query = \"\"\"\n",
    "[out:csv(::\"id\",\"name\",::lat,::lon,\"wikidata\",\"wikipedia\",\"website\",\"email\",\"opening_hours\";true; \";\")];\n",
    "area[\"ISO3166-1\"=\"CH\"][admin_level=2];\n",
    "(node[\"historic\"=\"castle\"](area);\n",
    " way[\"historic\"=\"castle\"](area);\n",
    " rel[\"historic\"=\"castle\"](area);\n",
    ");\n",
    "out center;\n",
    "\"\"\"\n",
    "response = requests.get(overpass_url, params={'data': overpass_query})\n",
    "data = response.content\n",
    "\n",
    "#print (data)\n",
    "\n",
    "df = pd.read_csv(io.StringIO(data.decode('utf-8')), delimiter=\";\")\n",
    "\n",
    "df.rename(columns={'@lat': 'lat'}, inplace=True)\n",
    "df.rename(columns={'@lon': 'lon'}, inplace=True)\n",
    "df.rename(columns={'@id': 'osm_id'}, inplace=True)\n",
    "\n",
    "print (df)\n",
    "\n",
    "df.to_csv(\"castle.csv\", index = False)\n",
    "\n"
   ]
  }
 ],
 "metadata": {
  "interpreter": {
   "hash": "52017756bbefb9a4148a81fc073917ca1abcfb87e9baaaf942da3e683d55d06f"
  },
  "kernelspec": {
   "display_name": "Python 3.9.10 64-bit (windows store)",
   "language": "python",
   "name": "python3"
  },
  "language_info": {
   "codemirror_mode": {
    "name": "ipython",
    "version": 3
   },
   "file_extension": ".py",
   "mimetype": "text/x-python",
   "name": "python",
   "nbconvert_exporter": "python",
   "pygments_lexer": "ipython3",
   "version": "3.9.10"
  },
  "orig_nbformat": 4
 },
 "nbformat": 4,
 "nbformat_minor": 2
}
