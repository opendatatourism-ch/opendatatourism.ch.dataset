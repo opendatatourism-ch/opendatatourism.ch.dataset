{
 "cells": [
  {
   "cell_type": "markdown",
   "metadata": {},
   "source": [
    "Overpass Turbo Request: https://overpass-turbo.eu/s/1g8P"
   ]
  },
  {
   "cell_type": "code",
   "execution_count": 2,
   "metadata": {},
   "outputs": [
    {
     "name": "stdout",
     "output_type": "stream",
     "text": [
      "b'@id;@type;name;@lat;@lon;wikidata;wikipedia;website;email;opening_hours\\n52200228;node;Arenenberger Badi;47.6740707;9.0656653;;;;;\\n277629858;node;Strandbad M\\xc3\\xbchlehorn;47.1180505;9.1744550;;;;;\\n456036314;node;Freibad Teufen;47.3834052;9.3938663;;;http://www.teufen.ch/xml_1/internet/de/application/d361/d120/f121.cfm;;\\n631879657;node;Badeinseln;46.8944453;8.6071003;;;;;\\n1072932563;node;Seebad Baldegg;47.1862200;8.2770160;;;http://seebad-baldegg.ch/;;\\n1080951326;node;Alte Badi Immensee;47.0996980;8.4690960;;;;;\\n1728558194;node;Freibad Lerchenfeld;47.4158291;9.3417313;;;;;\\n2218035420;node;Therme Vals;46.6220041;9.1812710;Q675081;de:Therme Vals;http://www.therme-vals.ch;;\\n2327477051;node;Strandbad Nottwil;47.1411850;8.1361054;;;;;\\n2573478863;node;Strandbad Lachen;47.1970270;8.8523842;;;;;\\n2843590786;node;Seebad Gelfingen;47.2128790;8.2633525;;;;;Mo-Su 06:00-22:00\\n3008686174;node;Schwimmbad Waldstatt;47.3540911;9.2809147;;;https://www.waldstatt.ch/unser-dorf/freizeit-sportanlagen/schwimmbad.html/295;;\\n3394816042;node;Plage de Goncerut;46.8056916;6.7430397;;;;;\\n3413023900;node;Thermalbank;47.4799012;8.3137535;;;;;24/7\\n3670051354;node;Frankrichli;47.5930286;8.9565901;;;https://badibeiz.ch/#badi;;May 1-Sep 30: 09:00+\\n3768663426;node;Strandbad Eschenz Buebebadi;47.6504821;8.8835946;;;;;\\n5377272894;node;Lido;47.0026205;8.4853456;;;;;\\n5769858718;node;Badeplatz Strom;47.3831418;9.3503147;;;;;\\n6258097420;node;Giessenbad Belp;46.9111254;7.5049524;;;;;\\n6474983302;node;Horn - Kleine Treppe;47.2121328;8.7052403;;;;;\\n6474983303;node;Horn - Grosse Treppe;47.2115439;8.7065545;;;;;\\n7776300769;node;Steinrad;47.2911865;8.6011563;Q1497051;de:Steinrad;;;\\n7776310928;node;;47.0480573;7.1492936;;;;;\\n7776602863;node;Lido Comunale Maroggia;45.9337465;8.9686765;;;;;\\n7780890280;node;Strandbad Walenstadt;47.1260500;9.3025149;;;;;\\n7780890442;node;Strandbad Unterterzen;47.1146668;9.2547856;;;;;\\n7780909291;node;Weiherbadi Hauptwil;47.4795804;9.2558439;;;;;\\n7781211829;node;Seebad Lido Krattigen;46.6641475;7.7333437;;;;;\\n7781360513;node;Strand Hemishofen;47.6756143;8.8282764;;;;;\\n7802208024;node;Lej da Staz;46.4966660;9.8706078;;;;;\\n7817520361;node;Bad Bonn;46.8613065;7.1761348;;;;;\\n9177157955;node;;46.1093365;8.7651030;;;;;\\n'\n"
     ]
    },
    {
     "ename": "ValueError",
     "evalue": "Out of range float values are not JSON compliant: nan",
     "output_type": "error",
     "traceback": [
      "\u001b[1;31m---------------------------------------------------------------------------\u001b[0m",
      "\u001b[1;31mValueError\u001b[0m                                Traceback (most recent call last)",
      "\u001b[1;32md:\\Projekte\\opendatatourism.ch.dataset\\swimming\\swimming-geojson.ipynb Cell 2'\u001b[0m in \u001b[0;36m<module>\u001b[1;34m\u001b[0m\n\u001b[0;32m     <a href='vscode-notebook-cell:/d%3A/Projekte/opendatatourism.ch.dataset/swimming/swimming-geojson.ipynb#ch0000001?line=40'>41</a>\u001b[0m     \u001b[39mwith\u001b[39;00m \u001b[39mopen\u001b[39m(\u001b[39m'\u001b[39m\u001b[39mswimming.geojson\u001b[39m\u001b[39m'\u001b[39m, \u001b[39m'\u001b[39m\u001b[39mw\u001b[39m\u001b[39m'\u001b[39m, encoding\u001b[39m=\u001b[39m\u001b[39m'\u001b[39m\u001b[39mutf8\u001b[39m\u001b[39m'\u001b[39m) \u001b[39mas\u001b[39;00m fp:\n\u001b[0;32m     <a href='vscode-notebook-cell:/d%3A/Projekte/opendatatourism.ch.dataset/swimming/swimming-geojson.ipynb#ch0000001?line=41'>42</a>\u001b[0m         geojson\u001b[39m.\u001b[39mdump(geojson\u001b[39m.\u001b[39mFeatureCollection(features), fp, indent\u001b[39m=\u001b[39m\u001b[39m4\u001b[39m, sort_keys\u001b[39m=\u001b[39m\u001b[39mTrue\u001b[39;00m, ensure_ascii\u001b[39m=\u001b[39m\u001b[39mFalse\u001b[39;00m)\n\u001b[1;32m---> <a href='vscode-notebook-cell:/d%3A/Projekte/opendatatourism.ch.dataset/swimming/swimming-geojson.ipynb#ch0000001?line=43'>44</a>\u001b[0m data2geojson(dataFrame)\n",
      "\u001b[1;32md:\\Projekte\\opendatatourism.ch.dataset\\swimming\\swimming-geojson.ipynb Cell 2'\u001b[0m in \u001b[0;36mdata2geojson\u001b[1;34m(df)\u001b[0m\n\u001b[0;32m     <a href='vscode-notebook-cell:/d%3A/Projekte/opendatatourism.ch.dataset/swimming/swimming-geojson.ipynb#ch0000001?line=39'>40</a>\u001b[0m df\u001b[39m.\u001b[39mapply(insert_features, axis\u001b[39m=\u001b[39m\u001b[39m1\u001b[39m)\n\u001b[0;32m     <a href='vscode-notebook-cell:/d%3A/Projekte/opendatatourism.ch.dataset/swimming/swimming-geojson.ipynb#ch0000001?line=40'>41</a>\u001b[0m \u001b[39mwith\u001b[39;00m \u001b[39mopen\u001b[39m(\u001b[39m'\u001b[39m\u001b[39mswimming.geojson\u001b[39m\u001b[39m'\u001b[39m, \u001b[39m'\u001b[39m\u001b[39mw\u001b[39m\u001b[39m'\u001b[39m, encoding\u001b[39m=\u001b[39m\u001b[39m'\u001b[39m\u001b[39mutf8\u001b[39m\u001b[39m'\u001b[39m) \u001b[39mas\u001b[39;00m fp:\n\u001b[1;32m---> <a href='vscode-notebook-cell:/d%3A/Projekte/opendatatourism.ch.dataset/swimming/swimming-geojson.ipynb#ch0000001?line=41'>42</a>\u001b[0m     geojson\u001b[39m.\u001b[39;49mdump(geojson\u001b[39m.\u001b[39;49mFeatureCollection(features), fp, indent\u001b[39m=\u001b[39;49m\u001b[39m4\u001b[39;49m, sort_keys\u001b[39m=\u001b[39;49m\u001b[39mTrue\u001b[39;49;00m, ensure_ascii\u001b[39m=\u001b[39;49m\u001b[39mFalse\u001b[39;49;00m)\n",
      "File \u001b[1;32m~\\AppData\\Local\\Packages\\PythonSoftwareFoundation.Python.3.9_qbz5n2kfra8p0\\LocalCache\\local-packages\\Python39\\site-packages\\geojson\\codec.py:26\u001b[0m, in \u001b[0;36mdump\u001b[1;34m(obj, fp, cls, allow_nan, **kwargs)\u001b[0m\n\u001b[0;32m     <a href='file:///~/AppData/Local/Packages/PythonSoftwareFoundation.Python.3.9_qbz5n2kfra8p0/LocalCache/local-packages/Python39/site-packages/geojson/codec.py?line=24'>25</a>\u001b[0m \u001b[39mdef\u001b[39;00m \u001b[39mdump\u001b[39m(obj, fp, \u001b[39mcls\u001b[39m\u001b[39m=\u001b[39mGeoJSONEncoder, allow_nan\u001b[39m=\u001b[39m\u001b[39mFalse\u001b[39;00m, \u001b[39m*\u001b[39m\u001b[39m*\u001b[39mkwargs):\n\u001b[1;32m---> <a href='file:///~/AppData/Local/Packages/PythonSoftwareFoundation.Python.3.9_qbz5n2kfra8p0/LocalCache/local-packages/Python39/site-packages/geojson/codec.py?line=25'>26</a>\u001b[0m     \u001b[39mreturn\u001b[39;00m json\u001b[39m.\u001b[39mdump(to_mapping(obj),\n\u001b[0;32m     <a href='file:///~/AppData/Local/Packages/PythonSoftwareFoundation.Python.3.9_qbz5n2kfra8p0/LocalCache/local-packages/Python39/site-packages/geojson/codec.py?line=26'>27</a>\u001b[0m                      fp, \u001b[39mcls\u001b[39m\u001b[39m=\u001b[39m\u001b[39mcls\u001b[39m, allow_nan\u001b[39m=\u001b[39mallow_nan, \u001b[39m*\u001b[39m\u001b[39m*\u001b[39mkwargs)\n",
      "File \u001b[1;32mC:\\Program Files\\WindowsApps\\PythonSoftwareFoundation.Python.3.9_3.9.2800.0_x64__qbz5n2kfra8p0\\lib\\json\\__init__.py:179\u001b[0m, in \u001b[0;36mdump\u001b[1;34m(obj, fp, skipkeys, ensure_ascii, check_circular, allow_nan, cls, indent, separators, default, sort_keys, **kw)\u001b[0m\n\u001b[0;32m    <a href='file:///c%3A/Program%20Files/WindowsApps/PythonSoftwareFoundation.Python.3.9_3.9.2800.0_x64__qbz5n2kfra8p0/lib/json/__init__.py?line=172'>173</a>\u001b[0m     iterable \u001b[39m=\u001b[39m \u001b[39mcls\u001b[39m(skipkeys\u001b[39m=\u001b[39mskipkeys, ensure_ascii\u001b[39m=\u001b[39mensure_ascii,\n\u001b[0;32m    <a href='file:///c%3A/Program%20Files/WindowsApps/PythonSoftwareFoundation.Python.3.9_3.9.2800.0_x64__qbz5n2kfra8p0/lib/json/__init__.py?line=173'>174</a>\u001b[0m         check_circular\u001b[39m=\u001b[39mcheck_circular, allow_nan\u001b[39m=\u001b[39mallow_nan, indent\u001b[39m=\u001b[39mindent,\n\u001b[0;32m    <a href='file:///c%3A/Program%20Files/WindowsApps/PythonSoftwareFoundation.Python.3.9_3.9.2800.0_x64__qbz5n2kfra8p0/lib/json/__init__.py?line=174'>175</a>\u001b[0m         separators\u001b[39m=\u001b[39mseparators,\n\u001b[0;32m    <a href='file:///c%3A/Program%20Files/WindowsApps/PythonSoftwareFoundation.Python.3.9_3.9.2800.0_x64__qbz5n2kfra8p0/lib/json/__init__.py?line=175'>176</a>\u001b[0m         default\u001b[39m=\u001b[39mdefault, sort_keys\u001b[39m=\u001b[39msort_keys, \u001b[39m*\u001b[39m\u001b[39m*\u001b[39mkw)\u001b[39m.\u001b[39miterencode(obj)\n\u001b[0;32m    <a href='file:///c%3A/Program%20Files/WindowsApps/PythonSoftwareFoundation.Python.3.9_3.9.2800.0_x64__qbz5n2kfra8p0/lib/json/__init__.py?line=176'>177</a>\u001b[0m \u001b[39m# could accelerate with writelines in some versions of Python, at\u001b[39;00m\n\u001b[0;32m    <a href='file:///c%3A/Program%20Files/WindowsApps/PythonSoftwareFoundation.Python.3.9_3.9.2800.0_x64__qbz5n2kfra8p0/lib/json/__init__.py?line=177'>178</a>\u001b[0m \u001b[39m# a debuggability cost\u001b[39;00m\n\u001b[1;32m--> <a href='file:///c%3A/Program%20Files/WindowsApps/PythonSoftwareFoundation.Python.3.9_3.9.2800.0_x64__qbz5n2kfra8p0/lib/json/__init__.py?line=178'>179</a>\u001b[0m \u001b[39mfor\u001b[39;00m chunk \u001b[39min\u001b[39;00m iterable:\n\u001b[0;32m    <a href='file:///c%3A/Program%20Files/WindowsApps/PythonSoftwareFoundation.Python.3.9_3.9.2800.0_x64__qbz5n2kfra8p0/lib/json/__init__.py?line=179'>180</a>\u001b[0m     fp\u001b[39m.\u001b[39mwrite(chunk)\n",
      "File \u001b[1;32mC:\\Program Files\\WindowsApps\\PythonSoftwareFoundation.Python.3.9_3.9.2800.0_x64__qbz5n2kfra8p0\\lib\\json\\encoder.py:431\u001b[0m, in \u001b[0;36m_make_iterencode.<locals>._iterencode\u001b[1;34m(o, _current_indent_level)\u001b[0m\n\u001b[0;32m    <a href='file:///c%3A/Program%20Files/WindowsApps/PythonSoftwareFoundation.Python.3.9_3.9.2800.0_x64__qbz5n2kfra8p0/lib/json/encoder.py?line=428'>429</a>\u001b[0m     \u001b[39myield from\u001b[39;00m _iterencode_list(o, _current_indent_level)\n\u001b[0;32m    <a href='file:///c%3A/Program%20Files/WindowsApps/PythonSoftwareFoundation.Python.3.9_3.9.2800.0_x64__qbz5n2kfra8p0/lib/json/encoder.py?line=429'>430</a>\u001b[0m \u001b[39melif\u001b[39;00m \u001b[39misinstance\u001b[39m(o, \u001b[39mdict\u001b[39m):\n\u001b[1;32m--> <a href='file:///c%3A/Program%20Files/WindowsApps/PythonSoftwareFoundation.Python.3.9_3.9.2800.0_x64__qbz5n2kfra8p0/lib/json/encoder.py?line=430'>431</a>\u001b[0m     \u001b[39myield from\u001b[39;00m _iterencode_dict(o, _current_indent_level)\n\u001b[0;32m    <a href='file:///c%3A/Program%20Files/WindowsApps/PythonSoftwareFoundation.Python.3.9_3.9.2800.0_x64__qbz5n2kfra8p0/lib/json/encoder.py?line=431'>432</a>\u001b[0m \u001b[39melse\u001b[39;00m:\n\u001b[0;32m    <a href='file:///c%3A/Program%20Files/WindowsApps/PythonSoftwareFoundation.Python.3.9_3.9.2800.0_x64__qbz5n2kfra8p0/lib/json/encoder.py?line=432'>433</a>\u001b[0m     \u001b[39mif\u001b[39;00m markers \u001b[39mis\u001b[39;00m \u001b[39mnot\u001b[39;00m \u001b[39mNone\u001b[39;00m:\n",
      "File \u001b[1;32mC:\\Program Files\\WindowsApps\\PythonSoftwareFoundation.Python.3.9_3.9.2800.0_x64__qbz5n2kfra8p0\\lib\\json\\encoder.py:405\u001b[0m, in \u001b[0;36m_make_iterencode.<locals>._iterencode_dict\u001b[1;34m(dct, _current_indent_level)\u001b[0m\n\u001b[0;32m    <a href='file:///c%3A/Program%20Files/WindowsApps/PythonSoftwareFoundation.Python.3.9_3.9.2800.0_x64__qbz5n2kfra8p0/lib/json/encoder.py?line=402'>403</a>\u001b[0m         \u001b[39melse\u001b[39;00m:\n\u001b[0;32m    <a href='file:///c%3A/Program%20Files/WindowsApps/PythonSoftwareFoundation.Python.3.9_3.9.2800.0_x64__qbz5n2kfra8p0/lib/json/encoder.py?line=403'>404</a>\u001b[0m             chunks \u001b[39m=\u001b[39m _iterencode(value, _current_indent_level)\n\u001b[1;32m--> <a href='file:///c%3A/Program%20Files/WindowsApps/PythonSoftwareFoundation.Python.3.9_3.9.2800.0_x64__qbz5n2kfra8p0/lib/json/encoder.py?line=404'>405</a>\u001b[0m         \u001b[39myield from\u001b[39;00m chunks\n\u001b[0;32m    <a href='file:///c%3A/Program%20Files/WindowsApps/PythonSoftwareFoundation.Python.3.9_3.9.2800.0_x64__qbz5n2kfra8p0/lib/json/encoder.py?line=405'>406</a>\u001b[0m \u001b[39mif\u001b[39;00m newline_indent \u001b[39mis\u001b[39;00m \u001b[39mnot\u001b[39;00m \u001b[39mNone\u001b[39;00m:\n\u001b[0;32m    <a href='file:///c%3A/Program%20Files/WindowsApps/PythonSoftwareFoundation.Python.3.9_3.9.2800.0_x64__qbz5n2kfra8p0/lib/json/encoder.py?line=406'>407</a>\u001b[0m     _current_indent_level \u001b[39m-\u001b[39m\u001b[39m=\u001b[39m \u001b[39m1\u001b[39m\n",
      "File \u001b[1;32mC:\\Program Files\\WindowsApps\\PythonSoftwareFoundation.Python.3.9_3.9.2800.0_x64__qbz5n2kfra8p0\\lib\\json\\encoder.py:325\u001b[0m, in \u001b[0;36m_make_iterencode.<locals>._iterencode_list\u001b[1;34m(lst, _current_indent_level)\u001b[0m\n\u001b[0;32m    <a href='file:///c%3A/Program%20Files/WindowsApps/PythonSoftwareFoundation.Python.3.9_3.9.2800.0_x64__qbz5n2kfra8p0/lib/json/encoder.py?line=322'>323</a>\u001b[0m         \u001b[39melse\u001b[39;00m:\n\u001b[0;32m    <a href='file:///c%3A/Program%20Files/WindowsApps/PythonSoftwareFoundation.Python.3.9_3.9.2800.0_x64__qbz5n2kfra8p0/lib/json/encoder.py?line=323'>324</a>\u001b[0m             chunks \u001b[39m=\u001b[39m _iterencode(value, _current_indent_level)\n\u001b[1;32m--> <a href='file:///c%3A/Program%20Files/WindowsApps/PythonSoftwareFoundation.Python.3.9_3.9.2800.0_x64__qbz5n2kfra8p0/lib/json/encoder.py?line=324'>325</a>\u001b[0m         \u001b[39myield from\u001b[39;00m chunks\n\u001b[0;32m    <a href='file:///c%3A/Program%20Files/WindowsApps/PythonSoftwareFoundation.Python.3.9_3.9.2800.0_x64__qbz5n2kfra8p0/lib/json/encoder.py?line=325'>326</a>\u001b[0m \u001b[39mif\u001b[39;00m newline_indent \u001b[39mis\u001b[39;00m \u001b[39mnot\u001b[39;00m \u001b[39mNone\u001b[39;00m:\n\u001b[0;32m    <a href='file:///c%3A/Program%20Files/WindowsApps/PythonSoftwareFoundation.Python.3.9_3.9.2800.0_x64__qbz5n2kfra8p0/lib/json/encoder.py?line=326'>327</a>\u001b[0m     _current_indent_level \u001b[39m-\u001b[39m\u001b[39m=\u001b[39m \u001b[39m1\u001b[39m\n",
      "File \u001b[1;32mC:\\Program Files\\WindowsApps\\PythonSoftwareFoundation.Python.3.9_3.9.2800.0_x64__qbz5n2kfra8p0\\lib\\json\\encoder.py:405\u001b[0m, in \u001b[0;36m_make_iterencode.<locals>._iterencode_dict\u001b[1;34m(dct, _current_indent_level)\u001b[0m\n\u001b[0;32m    <a href='file:///c%3A/Program%20Files/WindowsApps/PythonSoftwareFoundation.Python.3.9_3.9.2800.0_x64__qbz5n2kfra8p0/lib/json/encoder.py?line=402'>403</a>\u001b[0m         \u001b[39melse\u001b[39;00m:\n\u001b[0;32m    <a href='file:///c%3A/Program%20Files/WindowsApps/PythonSoftwareFoundation.Python.3.9_3.9.2800.0_x64__qbz5n2kfra8p0/lib/json/encoder.py?line=403'>404</a>\u001b[0m             chunks \u001b[39m=\u001b[39m _iterencode(value, _current_indent_level)\n\u001b[1;32m--> <a href='file:///c%3A/Program%20Files/WindowsApps/PythonSoftwareFoundation.Python.3.9_3.9.2800.0_x64__qbz5n2kfra8p0/lib/json/encoder.py?line=404'>405</a>\u001b[0m         \u001b[39myield from\u001b[39;00m chunks\n\u001b[0;32m    <a href='file:///c%3A/Program%20Files/WindowsApps/PythonSoftwareFoundation.Python.3.9_3.9.2800.0_x64__qbz5n2kfra8p0/lib/json/encoder.py?line=405'>406</a>\u001b[0m \u001b[39mif\u001b[39;00m newline_indent \u001b[39mis\u001b[39;00m \u001b[39mnot\u001b[39;00m \u001b[39mNone\u001b[39;00m:\n\u001b[0;32m    <a href='file:///c%3A/Program%20Files/WindowsApps/PythonSoftwareFoundation.Python.3.9_3.9.2800.0_x64__qbz5n2kfra8p0/lib/json/encoder.py?line=406'>407</a>\u001b[0m     _current_indent_level \u001b[39m-\u001b[39m\u001b[39m=\u001b[39m \u001b[39m1\u001b[39m\n",
      "File \u001b[1;32mC:\\Program Files\\WindowsApps\\PythonSoftwareFoundation.Python.3.9_3.9.2800.0_x64__qbz5n2kfra8p0\\lib\\json\\encoder.py:397\u001b[0m, in \u001b[0;36m_make_iterencode.<locals>._iterencode_dict\u001b[1;34m(dct, _current_indent_level)\u001b[0m\n\u001b[0;32m    <a href='file:///c%3A/Program%20Files/WindowsApps/PythonSoftwareFoundation.Python.3.9_3.9.2800.0_x64__qbz5n2kfra8p0/lib/json/encoder.py?line=393'>394</a>\u001b[0m     \u001b[39myield\u001b[39;00m _intstr(value)\n\u001b[0;32m    <a href='file:///c%3A/Program%20Files/WindowsApps/PythonSoftwareFoundation.Python.3.9_3.9.2800.0_x64__qbz5n2kfra8p0/lib/json/encoder.py?line=394'>395</a>\u001b[0m \u001b[39melif\u001b[39;00m \u001b[39misinstance\u001b[39m(value, \u001b[39mfloat\u001b[39m):\n\u001b[0;32m    <a href='file:///c%3A/Program%20Files/WindowsApps/PythonSoftwareFoundation.Python.3.9_3.9.2800.0_x64__qbz5n2kfra8p0/lib/json/encoder.py?line=395'>396</a>\u001b[0m     \u001b[39m# see comment for int/float in _make_iterencode\u001b[39;00m\n\u001b[1;32m--> <a href='file:///c%3A/Program%20Files/WindowsApps/PythonSoftwareFoundation.Python.3.9_3.9.2800.0_x64__qbz5n2kfra8p0/lib/json/encoder.py?line=396'>397</a>\u001b[0m     \u001b[39myield\u001b[39;00m _floatstr(value)\n\u001b[0;32m    <a href='file:///c%3A/Program%20Files/WindowsApps/PythonSoftwareFoundation.Python.3.9_3.9.2800.0_x64__qbz5n2kfra8p0/lib/json/encoder.py?line=397'>398</a>\u001b[0m \u001b[39melse\u001b[39;00m:\n\u001b[0;32m    <a href='file:///c%3A/Program%20Files/WindowsApps/PythonSoftwareFoundation.Python.3.9_3.9.2800.0_x64__qbz5n2kfra8p0/lib/json/encoder.py?line=398'>399</a>\u001b[0m     \u001b[39mif\u001b[39;00m \u001b[39misinstance\u001b[39m(value, (\u001b[39mlist\u001b[39m, \u001b[39mtuple\u001b[39m)):\n",
      "File \u001b[1;32mC:\\Program Files\\WindowsApps\\PythonSoftwareFoundation.Python.3.9_3.9.2800.0_x64__qbz5n2kfra8p0\\lib\\json\\encoder.py:239\u001b[0m, in \u001b[0;36mJSONEncoder.iterencode.<locals>.floatstr\u001b[1;34m(o, allow_nan, _repr, _inf, _neginf)\u001b[0m\n\u001b[0;32m    <a href='file:///c%3A/Program%20Files/WindowsApps/PythonSoftwareFoundation.Python.3.9_3.9.2800.0_x64__qbz5n2kfra8p0/lib/json/encoder.py?line=235'>236</a>\u001b[0m     \u001b[39mreturn\u001b[39;00m _repr(o)\n\u001b[0;32m    <a href='file:///c%3A/Program%20Files/WindowsApps/PythonSoftwareFoundation.Python.3.9_3.9.2800.0_x64__qbz5n2kfra8p0/lib/json/encoder.py?line=237'>238</a>\u001b[0m \u001b[39mif\u001b[39;00m \u001b[39mnot\u001b[39;00m allow_nan:\n\u001b[1;32m--> <a href='file:///c%3A/Program%20Files/WindowsApps/PythonSoftwareFoundation.Python.3.9_3.9.2800.0_x64__qbz5n2kfra8p0/lib/json/encoder.py?line=238'>239</a>\u001b[0m     \u001b[39mraise\u001b[39;00m \u001b[39mValueError\u001b[39;00m(\n\u001b[0;32m    <a href='file:///c%3A/Program%20Files/WindowsApps/PythonSoftwareFoundation.Python.3.9_3.9.2800.0_x64__qbz5n2kfra8p0/lib/json/encoder.py?line=239'>240</a>\u001b[0m         \u001b[39m\"\u001b[39m\u001b[39mOut of range float values are not JSON compliant: \u001b[39m\u001b[39m\"\u001b[39m \u001b[39m+\u001b[39m\n\u001b[0;32m    <a href='file:///c%3A/Program%20Files/WindowsApps/PythonSoftwareFoundation.Python.3.9_3.9.2800.0_x64__qbz5n2kfra8p0/lib/json/encoder.py?line=240'>241</a>\u001b[0m         \u001b[39mrepr\u001b[39m(o))\n\u001b[0;32m    <a href='file:///c%3A/Program%20Files/WindowsApps/PythonSoftwareFoundation.Python.3.9_3.9.2800.0_x64__qbz5n2kfra8p0/lib/json/encoder.py?line=242'>243</a>\u001b[0m \u001b[39mreturn\u001b[39;00m text\n",
      "\u001b[1;31mValueError\u001b[0m: Out of range float values are not JSON compliant: nan"
     ]
    }
   ],
   "source": [
    "import requests\n",
    "import io\n",
    "import pandas as pd\n",
    "import geojson\n",
    "\n",
    "\n",
    "overpass_url = \"http://overpass-api.de/api/interpreter\"\n",
    "overpass_query = \"\"\"\n",
    "[out:csv(::id,::type,name,::lat,::lon,wikidata,wikipedia,website,email,opening_hours;true; \";\")];\n",
    "area[\"ISO3166-1\"=\"CH\"][admin_level=2];\n",
    "(\n",
    "  node[\"bath:open_air\"=\"yes\"](area);\n",
    "  way[\"bath:open_air\"=\"yes\"](area);\n",
    "  rel[\"bath:open_air\"=\"yes\"](area);\n",
    ");\n",
    "out center;\n",
    "\"\"\"\n",
    "response = requests.get(overpass_url, params={'data': overpass_query})\n",
    "data = response.content\n",
    "\n",
    "print (data)\n",
    "\n",
    "df = pd.read_csv(io.StringIO(data.decode('utf-8')), delimiter=\";\")\n",
    "\n",
    "# https://stackoverflow.com/questions/47308984/how-to-use-python-with-pandas-exporting-data-to-geojson-for-google-map\n",
    "# https://gist.github.com/mapcloud/036688121a87f960e35cc03077001e93\n",
    "# https://shouland.com/pandas-to-geojson-multiples-points-features-with-python\n",
    "\n",
    "# Replace nan to None\n",
    "dataFrame = df.where((pd.notnull(df)), None)\n",
    "dataFrame.rename(columns={'@lat': 'lat'}, inplace=True)\n",
    "dataFrame.rename(columns={'@lon': 'lon'}, inplace=True)\n",
    "dataFrame.rename(columns={'@id': 'osm_id'}, inplace=True)\n",
    "\n",
    "def data2geojson(df):\n",
    "    features = []\n",
    "    insert_features = lambda X: features.append(\n",
    "            geojson.Feature(geometry=geojson.Point((X[\"lon\"], X[\"lat\"])),\n",
    "                            properties=dict(osm_id=X[\"osm_id\"],name=X[\"name\"], wikidata=X[\"wikidata\"], wikipedia=X[\"wikipedia\"], website=X[\"website\"], email=X[\"email\"], opening_hours=X[\"opening_hours\"])))\n",
    "    df.apply(insert_features, axis=1)\n",
    "    with open('swimming.geojson', 'w', encoding='utf8') as fp:\n",
    "        geojson.dump(geojson.FeatureCollection(features), fp, indent=4, sort_keys=True, ensure_ascii=False)\n",
    "\n",
    "data2geojson(dataFrame)"
   ]
  }
 ],
 "metadata": {
  "interpreter": {
   "hash": "52017756bbefb9a4148a81fc073917ca1abcfb87e9baaaf942da3e683d55d06f"
  },
  "kernelspec": {
   "display_name": "Python 3.9.10 64-bit (windows store)",
   "language": "python",
   "name": "python3"
  },
  "language_info": {
   "codemirror_mode": {
    "name": "ipython",
    "version": 3
   },
   "file_extension": ".py",
   "mimetype": "text/x-python",
   "name": "python",
   "nbconvert_exporter": "python",
   "pygments_lexer": "ipython3",
   "version": "3.9.10"
  },
  "orig_nbformat": 4
 },
 "nbformat": 4,
 "nbformat_minor": 2
}
