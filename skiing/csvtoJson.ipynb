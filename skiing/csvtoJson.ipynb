{
 "cells": [
  {
   "cell_type": "code",
   "execution_count": 16,
   "metadata": {},
   "outputs": [
    {
     "name": "stdout",
     "output_type": "stream",
     "text": [
      "name              object\n",
      "osm_id             int64\n",
      "@type             object\n",
      "googleplaceid     object\n",
      "googlename        object\n",
      "wispo_resort     float64\n",
      "dtype: object\n",
      "                                 name      osm_id @type  \\\n",
      "0                      Skilift Heiden   199566291   way   \n",
      "1   Kinderskilift Bischofsberg Heiden  1122829048   way   \n",
      "2                       Skilift Kaien   329361494   way   \n",
      "3                   Skilift St. Anton   195034323   way   \n",
      "4                 Skilift Vögelinsegg    92516259   way   \n",
      "5            Skilift Blatten Speicher   193296760   way   \n",
      "6            Skilift Klausenböhl Gais   329359874   way   \n",
      "7                Skilift Schwellbrunn   308709124   way   \n",
      "8                      Skilift Hörnli   251610986   way   \n",
      "9                    Skilift Osteregg    31900074   way   \n",
      "10            Kinder-Ponylift Urnäsch   667735555   way   \n",
      "11                    Skilift Hemberg    55885657   way   \n",
      "12              Zauberteppich Hemberg   392320772   way   \n",
      "\n",
      "                  googleplaceid                               googlename  \\\n",
      "0   ChIJ_9Ww_O8Zm0cR8vhSVdzcckU                           Skilift Heiden   \n",
      "1   ChIJ-dTTa-YZm0cRhwr1aRXy3v0                            Kinderskilift   \n",
      "2   ChIJBUjp14MZm0cRKRsY54Dsyu0                       Skilift Grub-Kaien   \n",
      "3   ChIJjTVBgGYXm0cRAQpd8EGTz8Q  Skilift Oberegg St. Anton AG Talstation   \n",
      "4   ChIJ-8ksSdQYm0cRpmUhuoGhbcU                      Skilift Vögelinsegg   \n",
      "5                           NaN                                      NaN   \n",
      "6                           NaN                                      NaN   \n",
      "7   ChIJY1A7TF7emkcRamdo-7vh2f4                  Skilift AG Schwellbrunn   \n",
      "8   ChIJufFtEdTZmkcR11PN52SdcfM                           Skilift Hörnli   \n",
      "9   ChIJ8RwQ5DbfmkcRY2r_WZK9AjA                       Skilift Urnäsch AG   \n",
      "10                          NaN                                      NaN   \n",
      "11  ChIJp4jQYZTbmkcRFrAEs7h8dhc                          Skilift Hemberg   \n",
      "12                          NaN                                      NaN   \n",
      "\n",
      "    wispo_resort  \n",
      "0            NaN  \n",
      "1            NaN  \n",
      "2            NaN  \n",
      "3            NaN  \n",
      "4            NaN  \n",
      "5            NaN  \n",
      "6            NaN  \n",
      "7            NaN  \n",
      "8            NaN  \n",
      "9          467.0  \n",
      "10         467.0  \n",
      "11           NaN  \n",
      "12           NaN  \n"
     ]
    }
   ],
   "source": [
    "import pandas as pd\n",
    "\n",
    "def make_json(csvFilePath, jsonFilePath):\n",
    "    df = pd.read_csv(csvFilePath)\n",
    "    print(df.dtypes)\n",
    "    #df['osm_id'] = df['osm_id'].astype(int)\n",
    "    #df.wispo_resort = df.wispo_resort.astype(int)\n",
    "    print(df)\n",
    "    result = df.to_json(jsonFilePath, orient=\"records\", indent=4)\n",
    "\n",
    "csvFilePath = r'input/skiing.csv'\n",
    "jsonFilePath = r'output/skiing.json'\n",
    "\n",
    "make_json(csvFilePath, jsonFilePath)"
   ]
  }
 ],
 "metadata": {
  "kernelspec": {
   "display_name": "Python 3",
   "language": "python",
   "name": "python3"
  },
  "language_info": {
   "codemirror_mode": {
    "name": "ipython",
    "version": 3
   },
   "file_extension": ".py",
   "mimetype": "text/x-python",
   "name": "python",
   "nbconvert_exporter": "python",
   "pygments_lexer": "ipython3",
   "version": "3.10.5"
  },
  "orig_nbformat": 4,
  "vscode": {
   "interpreter": {
    "hash": "3ed32b46b443b0939fc7b8a9366b8d36306b2d60d559b960dfb68b66493fe676"
   }
  }
 },
 "nbformat": 4,
 "nbformat_minor": 2
}
